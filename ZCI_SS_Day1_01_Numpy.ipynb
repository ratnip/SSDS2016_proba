{
 "cells": [
  {
   "cell_type": "markdown",
   "metadata": {
    "nbpresent": {
     "id": "92f5a563-f954-473e-8503-ed74585287dc"
    }
   },
   "source": [
    "<hr><hr>"
   ]
  },
  {
   "cell_type": "markdown",
   "metadata": {
    "nbpresent": {
     "id": "8ebade12-005e-4431-b856-54c29b0e80d4"
    }
   },
   "source": [
    "# Data Science Summer School - Split '16 </center>"
   ]
  },
  {
   "cell_type": "markdown",
   "metadata": {
    "nbpresent": {
     "id": "c02b241a-4837-485c-94de-75d1bd351763"
    }
   },
   "source": [
    "## Day 1 - Python for data analysis fundamentals \n",
    "### *Numpy, Pandas, Matplotlib*"
   ]
  },
  {
   "cell_type": "markdown",
   "metadata": {
    "nbpresent": {
     "id": "46b5ac74-7e9f-4a91-b503-5c0b85691939"
    }
   },
   "source": [
    "(c) 2016 Damir Pintar"
   ]
  },
  {
   "cell_type": "markdown",
   "metadata": {
    "nbpresent": {
     "id": "b76f5c0f-a44b-4f44-ba8a-5069e3806f1f"
    }
   },
   "source": [
    "*version: 0.1* \n"
   ]
  },
  {
   "cell_type": "markdown",
   "metadata": {
    "nbpresent": {
     "id": "c9171cb1-cda3-4789-96a0-3233094d2af6"
    }
   },
   "source": [
    "`kernel: Python 2.7`"
   ]
  },
  {
   "cell_type": "markdown",
   "metadata": {
    "nbpresent": {
     "id": "fb0408d9-a169-4fda-860a-f81f2278a5c0"
    }
   },
   "source": [
    "<hr><hr>"
   ]
  },
  {
   "cell_type": "markdown",
   "metadata": {
    "collapsed": true,
    "nbpresent": {
     "id": "f96cf5d9-3238-4baf-a2fb-dfb5280377ea"
    }
   },
   "source": [
    "# Part 1 - Numpy"
   ]
  },
  {
   "cell_type": "markdown",
   "metadata": {
    "nbpresent": {
     "id": "095b6bba-90cb-4510-b307-eefd0603230c"
    }
   },
   "source": [
    "*Numpy*, or *Numerical Python* is a package aimed primarily at high-performance array-based scientific computing. If your work requiers efficient processing of arrays (especially high-dimensional arrays) you might find Numpy to be extremely useful. For more generic data analysis involving tabular data there are more convenient higher-level packages available (such as *Pandas*, to be explained later), but certain *Numpy* principles carry over to that package, too."
   ]
  },
  {
   "cell_type": "markdown",
   "metadata": {
    "nbpresent": {
     "id": "1bdef0f1-3536-4265-a078-bff6c5c07e16"
    }
   },
   "source": [
    "What follows is only a small glimpse into the functionality offered by *Numpy*. We will focus primarily on 1-dimensional arrays and operations we can perform on them. 2- or more dimensional arrays, advanced mathematical capabilities offered by Numpy (such as advanced linear algebra operations, Fourier transform capabilities etc.), and one of arguably *Numpy*'s greatest strengths - integration with lower-level languages such as C++ or Fortran - are beyond the intended scope of this Notebook. Readers are encouraged to expand the concepts provided below with additional reading, starting with the official Numpy documentation <a href = \"#1\">[1]</a>."
   ]
  },
  {
   "cell_type": "markdown",
   "metadata": {
    "nbpresent": {
     "id": "b4be231c-6254-4037-aaac-1ec49511b2df"
    }
   },
   "source": [
    "### *Numpy* arrays"
   ]
  },
  {
   "cell_type": "markdown",
   "metadata": {
    "nbpresent": {
     "id": "464f9a02-876c-49cb-88f3-4693dcbfab96"
    }
   },
   "source": [
    "Imagine that we have two Python lists depicting ordered set of points gained by the same set of people on two separate exams. Let's say that we want to get the total score, which would involve sumation of paired elements from both lists. There are a few conceivable ways you might be trying this out:"
   ]
  },
  {
   "cell_type": "code",
   "execution_count": 2,
   "metadata": {
    "collapsed": false,
    "nbpresent": {
     "id": "933415fa-3be8-4cd7-8519-d59057749880"
    },
    "scrolled": true
   },
   "outputs": [],
   "source": [
    "exam1 = [10, 8, 12, 14, 5, 16, 11, 10, 9]\n",
    "exam2 = [8, 8, 13, 19, 15, 6, 18, 7, 19]\n",
    "\n",
    "z1 = exam1 + exam2                              \n",
    "z2 = [(i + j) for i in exam1 for j in exam2]    \n",
    "z3 = [(i + j) for (i,j) in zip(exam1, exam2)]  \n",
    "\n",
    "### print out the contents of above lists and comment the results\n",
    "###\n",
    "###\n",
    "###\n"
   ]
  },
  {
   "cell_type": "markdown",
   "metadata": {
    "nbpresent": {
     "id": "d07cd0f8-71f6-4c71-b8ad-7509f62342a4"
    }
   },
   "source": [
    "As you notice, some of the ones you tried above simply do not work as intended, or require more complex coding than we would prefer (and may be computationally intensive for larger lists!)."
   ]
  },
  {
   "cell_type": "markdown",
   "metadata": {
    "nbpresent": {
     "id": "32ec34e0-203e-4c95-b133-44b485f4f0b7"
    }
   },
   "source": [
    "*Numpy* offers so-called **vectorized** operations which automatically perform requested operations on paired array elements. To convert a list to a *Numpy* array, you simply call the `array` function of the *Numpy* package and put the list as the first argument."
   ]
  },
  {
   "cell_type": "markdown",
   "metadata": {},
   "source": [
    "Try to convert `exam1` and `exam2` lists to *Numpy* arrays. Then try to sum the contents of those two arrays."
   ]
  },
  {
   "cell_type": "code",
   "execution_count": 3,
   "metadata": {
    "collapsed": false,
    "nbpresent": {
     "id": "945b7b46-f21b-487d-a288-63f8177c13ed"
    },
    "scrolled": true
   },
   "outputs": [],
   "source": [
    "# first we need to import the numpy package\n",
    "# we will use the following convention:\n",
    "import numpy as np               \n",
    "\n",
    "# convert the exam1 and exam2 lists to numpy arrays using np.array() function\n",
    "# call the new arrays np_exam1 and np_exam2\n",
    "\n",
    "###\n",
    "###\n",
    "\n",
    "# print out the result of adding np_exam1 and np_exam2 using the arithmetic operator '+'\n",
    "\n",
    "###\n"
   ]
  },
  {
   "cell_type": "markdown",
   "metadata": {},
   "source": [
    "Substraction, multiplication, division and other arithmetic operators will work the same - the result will be an array with the same dimension, containing elements which are the results of applying the provided arithmetic operator on the paired elements of both arrays."
   ]
  },
  {
   "cell_type": "markdown",
   "metadata": {},
   "source": [
    "We can also perform arihtmetic operations with arrays and scalars:"
   ]
  },
  {
   "cell_type": "code",
   "execution_count": null,
   "metadata": {
    "collapsed": false,
    "nbpresent": {
     "id": "aaa0c93d-3fdd-43fa-8277-b5250c775f95"
    },
    "scrolled": true
   },
   "outputs": [],
   "source": [
    "# print out the contents of np_exam1\n",
    "\n",
    "###\n",
    "\n",
    "# print out the result of dividing np_exam1 by 2\n",
    "\n",
    "###\n",
    "\n"
   ]
  },
  {
   "cell_type": "markdown",
   "metadata": {
    "nbpresent": {
     "id": "7098fa91-b499-4e16-8e6f-098a464cec7d"
    }
   },
   "source": [
    "Notice what happens when you perform arithmetic operations with arrays and scalars - the scalar gets \"recycled\" so each element of the array performs the same arithmetic operation with one \"copy\" of the scalar in question"
   ]
  },
  {
   "cell_type": "markdown",
   "metadata": {
    "nbpresent": {
     "id": "8c5ed34f-e1c7-40d7-8de3-47f10ebac283"
    }
   },
   "source": [
    "What about vectorizing boolean operations? We can do that too, but we need to remember that *Numpy* uses & and | operators as vectorized versions of `and` and `or`."
   ]
  },
  {
   "cell_type": "code",
   "execution_count": 21,
   "metadata": {
    "collapsed": false,
    "nbpresent": {
     "id": "02ec3b36-c260-4096-93db-dd0072303435"
    }
   },
   "outputs": [],
   "source": [
    "x = np.array([True, False, True, False])\n",
    "y = np.array([True, True, False, False])\n",
    "\n",
    "# print out arrays corresponding to vectorized versions of \"x and y\" and \"x or y\"\n",
    "\n",
    "###\n",
    "###\n"
   ]
  },
  {
   "cell_type": "markdown",
   "metadata": {},
   "source": [
    "Finally, let's see how vectorization works on relational parameteres. As expected, using relational operator on an array-array or array-scalar operation will result in a Boolean array."
   ]
  },
  {
   "cell_type": "code",
   "execution_count": 25,
   "metadata": {
    "collapsed": false
   },
   "outputs": [],
   "source": [
    "x = np.array([1,2,3,4,5])\n",
    "y = np.array([-2,0,2,4,6])\n",
    "\n",
    "# print the result of x > y\n",
    "###\n",
    "\n",
    "# print the result of x < 2\n",
    "###\n"
   ]
  },
  {
   "cell_type": "markdown",
   "metadata": {
    "nbpresent": {
     "id": "0bd2bb41-4026-4c8d-9363-20a1e3c3bde3"
    }
   },
   "source": [
    "Unlike Python lists, *Numpy* arrays can hold only one type of data (if we try to create an array of multiple types, Python will coerce them all to the \"strongest\" type). "
   ]
  },
  {
   "cell_type": "markdown",
   "metadata": {},
   "source": [
    "If we want to find out the array's data type by checking the array's attribute `dtype`."
   ]
  },
  {
   "cell_type": "code",
   "execution_count": null,
   "metadata": {
    "collapsed": false,
    "nbpresent": {
     "id": "187cb347-4473-40d2-8d43-44640d8e8ebf"
    },
    "scrolled": true
   },
   "outputs": [],
   "source": [
    "my_array1 = np.array([1, True, 2.3, \"A\"])\n",
    "\n",
    "# print out the contents of above array and its data type\n",
    "\n",
    "###\n",
    "###\n"
   ]
  },
  {
   "cell_type": "markdown",
   "metadata": {
    "nbpresent": {
     "id": "f3c762af-ee2c-4998-8986-3261972f906d"
    }
   },
   "source": [
    "Similar to Python's lists, there a few convenience functions for array creation which we may find very useful. For example, `arange` is *Numpy*'s version of `range`, `zeros` and `ones` create arrays of zeros and ones respectively, and `random.normal` gives us an array of elements randomly drawn from a normal distributuion."
   ]
  },
  {
   "cell_type": "code",
   "execution_count": 10,
   "metadata": {
    "collapsed": false,
    "nbpresent": {
     "id": "2c4e5595-6cba-4e86-bd22-6ac2b9564a87"
    },
    "scrolled": true
   },
   "outputs": [],
   "source": [
    "# print an array containing integers from 1 to 10 using the function arange \n",
    "# remember you can ask for help on using the function by typing help(np.arange)\n",
    "\n",
    "###\n",
    "\n",
    "\n",
    "# print an array of 10 zeros and an array of 5 ones \n",
    "\n",
    "###\n",
    "###\n",
    "\n",
    "\n",
    "# print an array of 10 elements drawn from a normal distribution with the mean of 50 and standard deviation of 5\n",
    "np.random.seed(1234)            # setting the seed for reproducibility\n",
    "\n",
    "###\n"
   ]
  },
  {
   "cell_type": "markdown",
   "metadata": {
    "nbpresent": {
     "id": "099857fc-7f1d-4ceb-b19e-bf7ab55f1497"
    }
   },
   "source": [
    "Instead of `normal` you might have also used some other distribution, such as `gamma`, `uniform`, `chisquare` etc. "
   ]
  },
  {
   "cell_type": "markdown",
   "metadata": {
    "nbpresent": {
     "id": "941779c4-7490-4c01-a6cf-7124104f2b09"
    }
   },
   "source": [
    "### Array slicing"
   ]
  },
  {
   "cell_type": "markdown",
   "metadata": {
    "collapsed": false,
    "nbpresent": {
     "id": "f888a392-cc55-48f2-b021-d1ec056c3d8b"
    }
   },
   "source": [
    "Slicing arrays works in a similar fashion as slicing lists. Try it out:"
   ]
  },
  {
   "cell_type": "code",
   "execution_count": 19,
   "metadata": {
    "collapsed": false,
    "nbpresent": {
     "id": "6c8c4d08-1bfd-4847-91bd-9003dc2369d8"
    },
    "scrolled": true
   },
   "outputs": [],
   "source": [
    "my_array = np.arange(1, 11)\n",
    "\n",
    "# print the first element of my_array\n",
    "###\n",
    "\n",
    "# print all but the last element\n",
    "###\n",
    "\n",
    "\n",
    "# print the following elements: second, third, fifth and then second again\n",
    "###\n",
    "\n",
    " \n"
   ]
  },
  {
   "cell_type": "markdown",
   "metadata": {
    "nbpresent": {
     "id": "ef6ffed2-aa62-4835-a2ab-b415d515ad91"
    }
   },
   "source": [
    "You may have noticed that to succesfully achieve the last bit you had to supply a list of indexes. This is what we called an *index list* - a regular list of integers which denote the indexes we are interested in retreiving. Notice that if we want, we can retrieve the same element multiple times. Also, note that we can use the \"index list\" not just to slice, but also to reorder the array."
   ]
  },
  {
   "cell_type": "markdown",
   "metadata": {
    "nbpresent": {
     "id": "24de8d84-5b37-42c5-bb87-f62d8cde0f29"
    }
   },
   "source": [
    "There is one thing you might find slightly unexpected: array slices are basically \"views\" toward the original array. This means we can change a portion of the array simply by assinging values to its slice. Try it out. "
   ]
  },
  {
   "cell_type": "code",
   "execution_count": 20,
   "metadata": {
    "collapsed": false,
    "nbpresent": {
     "id": "4bc28fe5-355d-49f3-b5a8-17b07b844683"
    },
    "scrolled": true
   },
   "outputs": [
    {
     "name": "stdout",
     "output_type": "stream",
     "text": [
      "[1 2 3 4 5 6 7 0 0 0]\n"
     ]
    }
   ],
   "source": [
    "# change the first three elements of my_array to zero\n",
    "###\n",
    "\n",
    "# put the last three elements of my_array into a separate variable called my_array_slice\n",
    "###\n",
    "\n",
    "# change all elements of my_array_slice to zero\n",
    "###\n",
    "\n",
    "# print out my_array\n",
    "#my_array\n",
    "\n"
   ]
  },
  {
   "cell_type": "markdown",
   "metadata": {
    "nbpresent": {
     "id": "b1ad8e48-4d9d-4df0-91c4-fef5972a44f6"
    }
   },
   "source": [
    "Remember how we used a relational operator with a numerical array and got a Boolen array as a result? Time to put those Boolean arrays to use."
   ]
  },
  {
   "cell_type": "code",
   "execution_count": null,
   "metadata": {
    "collapsed": false,
    "nbpresent": {
     "id": "f71e7e07-d22b-4a39-a80e-03a68c140e84"
    },
    "scrolled": true
   },
   "outputs": [],
   "source": [
    "# just run this code\n",
    "x = np.arange(1, 6)\n",
    "\n",
    "# try to print the result of: x[x > 2] \n",
    "###\n"
   ]
  },
  {
   "cell_type": "markdown",
   "metadata": {
    "nbpresent": {
     "id": "76cd2552-3efa-489e-8cde-87f27916e1bf"
    }
   },
   "source": [
    "How do you explain this result? It's simple - we can retrieve a subset of an array by providing an array (or a list) of boolean elements which has the same length as the original array. The result will be an array containing only the elements for which the corresponding boolean value was `True`. Consequently, what happened here was this:\n",
    "<hr>\n",
    "\n",
    "`x > 2                             x[x > 2]`\n",
    "\n",
    "`   1  <  2   ->   False              1   [False]  ->   x\n",
    "2  <  2   ->   False              2   [False]  ->   x\n",
    "3  <  2   ->   True               3   [True]   ->   3\n",
    "4  <  2   ->   True               4   [True]   ->   4\n",
    "5  <  2   ->   True               5   [True]   ->   5`\n",
    "\n",
    "\n",
    "<hr>"
   ]
  },
  {
   "cell_type": "markdown",
   "metadata": {
    "nbpresent": {
     "id": "9ffb5322-fa49-43cc-b095-640ac891490c"
    }
   },
   "source": [
    "For those versed in SQL, you might have noticed parallels with:\n",
    "<hr>\n",
    "\n",
    "`SELECT * FROM x WHERE x > 2`\n",
    "<hr>"
   ]
  },
  {
   "cell_type": "markdown",
   "metadata": {
    "nbpresent": {
     "id": "03eb2a94-fb59-41e7-857d-f5beb8b5eb5f"
    }
   },
   "source": [
    "Using Boolean arrays as index lists is very powerful and extremely common. Let's try to solve the following exercise:"
   ]
  },
  {
   "cell_type": "code",
   "execution_count": 30,
   "metadata": {
    "collapsed": false,
    "nbpresent": {
     "id": "abb41232-fa3a-430b-b3a6-75c1c0abcf99"
    },
    "scrolled": true
   },
   "outputs": [],
   "source": [
    "# first notice and explain the result of the following operation (np.sum will add up all array elements)\n",
    "###\n"
   ]
  },
  {
   "cell_type": "code",
   "execution_count": 34,
   "metadata": {
    "collapsed": false
   },
   "outputs": [],
   "source": [
    "# Now try to put the above concept to some use. Let's initialize an array of random elements\n",
    "\n",
    "np.random.seed(1234)            \n",
    "x = np.random.normal(0, 1, 10)\n",
    "\n",
    "# print out the array x and examine its contents\n",
    "###\n",
    "\n",
    "# print out the total number of elements smaller then 0\n",
    "###\n",
    "\n",
    "# change all those pesky negative elements to 0 and print out the array\n",
    "###\n",
    "###\n",
    "\n"
   ]
  },
  {
   "cell_type": "markdown",
   "metadata": {
    "nbpresent": {
     "id": "ebc88926-c77b-413b-88bd-1ee0a8f9e400"
    }
   },
   "source": [
    "What you saw above is the common trick analysts use when they want to count elements (or observations) for which a certain criteria resolves to `True`. We might have also used the function `mean` (in our case `np.mean` of course), which would have given us a ratio of elements which satisfy the criteria."
   ]
  },
  {
   "cell_type": "markdown",
   "metadata": {
    "collapsed": false,
    "nbpresent": {
     "id": "4769f078-febe-40ba-8ed4-a289b743cc7a"
    }
   },
   "source": [
    "We'll be wrapping up our brief introduction of this powerful package by showcasing certain fun stuff you can do with it. We have already mentioned functions `sum` and `mean` of the *Numpy* package which perform summation or calculate mean average of array's element. *Numpy* offers a very rich set of these so called \"universal functions\" (or `ufuncs`), which are essentially well-known functions implemented in a way they work on array elements, often in vectorized fashion. You can check out a full list at the bottom of <a href = \"#5\"> [5] </a>. Let's try a few of them out:"
   ]
  },
  {
   "cell_type": "code",
   "execution_count": 39,
   "metadata": {
    "collapsed": false,
    "nbpresent": {
     "id": "7dbdd10c-cdde-4cb6-8e9c-218a5136d603"
    },
    "scrolled": true
   },
   "outputs": [],
   "source": [
    "# We create an array of 100 elements drawn from a uniform distribution\n",
    "np.random.seed(1234)\n",
    "a = np.random.uniform(0, 100, 100)\n",
    "\n",
    "# let's round these numbers to 2 decimals with the round function and save it back to variable a\n",
    "###\n",
    "\n",
    "# print a\n",
    "###\n"
   ]
  },
  {
   "cell_type": "code",
   "execution_count": 42,
   "metadata": {
    "collapsed": false,
    "nbpresent": {
     "id": "7e887c00-9623-463b-9121-a2e7c6fb3add"
    }
   },
   "outputs": [],
   "source": [
    "# print out the mean, standard deviation and variance by using Numpy functions: mean, std, var\n",
    "###\n",
    "###\n",
    "###\n"
   ]
  },
  {
   "cell_type": "code",
   "execution_count": 43,
   "metadata": {
    "collapsed": false,
    "nbpresent": {
     "id": "0cc55113-4f33-485c-92ec-90cb68fe7ff7"
    }
   },
   "outputs": [],
   "source": [
    "# print out the 75th percentil using the percentile function\n",
    "###\n"
   ]
  },
  {
   "cell_type": "code",
   "execution_count": 49,
   "metadata": {
    "collapsed": false,
    "nbpresent": {
     "id": "2fc4a6d7-c7a8-4885-8ed3-fad1e3e2d829"
    }
   },
   "outputs": [],
   "source": [
    "# let's keep only 10 elements from this array. Use the random.choice function. Call the new array a_sample\n",
    "###\n",
    "\n",
    "# print the contents of a_sample\n",
    "###\n"
   ]
  },
  {
   "cell_type": "code",
   "execution_count": 48,
   "metadata": {
    "collapsed": false,
    "nbpresent": {
     "id": "f49b7d08-0c33-416a-96be-23b327470621"
    }
   },
   "outputs": [],
   "source": [
    "# check out the mean of a_sample\n",
    "###\n"
   ]
  },
  {
   "cell_type": "code",
   "execution_count": 53,
   "metadata": {
    "collapsed": false,
    "nbpresent": {
     "id": "878190cc-d1a0-4e13-b1bb-877ca40eefa0"
    }
   },
   "outputs": [],
   "source": [
    "\n",
    "# finally, sort this sample in-place by using the sort method of the array itself\n",
    "###\n",
    "\n",
    "# print a_sample\n",
    "###\n"
   ]
  },
  {
   "cell_type": "markdown",
   "metadata": {
    "nbpresent": {
     "id": "602ae1a2-f34c-4027-8c50-d6e213b8abd6"
    }
   },
   "source": [
    "Remember, we have only scraped the surface of what *Numpy* can do. If you want to learn more about this package, check out the official documentation on <a href = \"http://docs.scipy.org/doc/numpy/\"> [1] </a>. "
   ]
  },
  {
   "cell_type": "markdown",
   "metadata": {
    "nbpresent": {
     "id": "abdbaff4-1569-4e6d-987e-d8e22ead659a"
    }
   },
   "source": [
    "<hr> <hr> <hr>\n",
    "## <font color = \"blue\">Exercises"
   ]
  },
  {
   "cell_type": "markdown",
   "metadata": {
    "nbpresent": {
     "id": "3d0d9b9b-59e4-4531-abb6-7c5e45986377"
    }
   },
   "source": [
    "**`1.`** In this exercise we will run through a few of the basic concepts we learned in this lecture. Try to solve the following tasks without going back to the lecture segments, and only check them if you get stuck."
   ]
  },
  {
   "cell_type": "code",
   "execution_count": null,
   "metadata": {
    "collapsed": true,
    "nbpresent": {
     "id": "b6023c89-d6b7-4722-a8d6-c6a835be2ac1"
    }
   },
   "outputs": [],
   "source": [
    "# Create an array of integers from 20 to 50. Print a sum of its elements\n",
    "\n"
   ]
  },
  {
   "cell_type": "code",
   "execution_count": null,
   "metadata": {
    "collapsed": true,
    "nbpresent": {
     "id": "558f60fa-cae5-4b17-a4f6-40761446f157"
    }
   },
   "outputs": [],
   "source": [
    "# Create an array of 20 zeros. Change each element which has an odd index to 1\n",
    "\n"
   ]
  },
  {
   "cell_type": "code",
   "execution_count": null,
   "metadata": {
    "collapsed": true,
    "nbpresent": {
     "id": "49a4d133-c2a4-4fa9-866e-6a7177cfe7d9"
    }
   },
   "outputs": [],
   "source": [
    "# Create en array of 100 random elements drawn from a normal distribution with a mean of 100 and standard deviation of 5\n",
    "# Count how many elements have a value lower than 90\n",
    "\n"
   ]
  },
  {
   "cell_type": "code",
   "execution_count": null,
   "metadata": {
    "collapsed": true,
    "nbpresent": {
     "id": "0e66e658-083c-42c3-9c85-4c4470cb71be"
    }
   },
   "outputs": [],
   "source": [
    "# Draw two random samples of 10 elements from the above array. Find their mean and standard deviation.\n",
    "# Then add those two samples together, divide the result with 2, and finally find the mean and standard deviation\n",
    "#    of the resulting array\n",
    "\n",
    "\n"
   ]
  },
  {
   "cell_type": "markdown",
   "metadata": {
    "collapsed": true,
    "nbpresent": {
     "id": "6d073519-86d6-4c9d-af32-cda4b10e96cc"
    },
    "scrolled": true
   },
   "source": [
    "**`2.`** In this lecture we only dealt with 1-dimensional arrays. Let's try an exercise which deals with *Numpy* matrices, (or two-dimensional arrays). You will see that almost all we learned is directly applicable for multi-dimensional array structures, too."
   ]
  },
  {
   "cell_type": "code",
   "execution_count": null,
   "metadata": {
    "collapsed": false,
    "nbpresent": {
     "id": "abad6d97-087d-4386-9485-c953ceca0392"
    }
   },
   "outputs": [],
   "source": [
    "# let's create a 3 x 3 containing integers from 1 to 9, ordered row-wise\n",
    "# first create a \"list of lists\", a list of 3 elements, each element being itself a list of integers,\n",
    "#         first list being numbers from 1 to 3 etc.\n",
    "# store this list in a variable called: a\n",
    "\n"
   ]
  },
  {
   "cell_type": "code",
   "execution_count": null,
   "metadata": {
    "collapsed": false,
    "nbpresent": {
     "id": "0149124b-46fc-41b0-99ae-007235851c91"
    }
   },
   "outputs": [],
   "source": [
    "# now create a Numpy array from this list: np_a\n",
    "# print out the array, its shape attribute and its ndim attribute\n",
    "\n"
   ]
  },
  {
   "cell_type": "code",
   "execution_count": null,
   "metadata": {
    "collapsed": true,
    "nbpresent": {
     "id": "da7ddabd-1d58-48a6-b35a-f03562ddc035"
    }
   },
   "outputs": [],
   "source": [
    "# there's an easier way to create a Numpy 2d array\n",
    "# use Numpy function arange to create an array of integers from 1 to 9,\n",
    "# then use its method called \"reshape\" to turn a 1d array into a 2d array\n",
    "#      - method reshape takes integers as arguments - i.e.  reshape(3,4) - 2d array, 3 rows, 4 columns\n",
    "# store this new 2d array in a variable called np_b\n",
    "\n"
   ]
  },
  {
   "cell_type": "code",
   "execution_count": null,
   "metadata": {
    "collapsed": true,
    "nbpresent": {
     "id": "785b8371-9691-4f62-acc3-9c08c7a0cd31"
    }
   },
   "outputs": [],
   "source": [
    "# Check whether np_a and np_b are equal. You can use Numpy's function called array_equal which checks whether\n",
    "#     two provided arrays have identical elements as well as identical shape\n",
    "\n",
    "\n"
   ]
  },
  {
   "cell_type": "code",
   "execution_count": null,
   "metadata": {
    "collapsed": false,
    "nbpresent": {
     "id": "02aa9dcc-88d6-4fd9-a2ab-9bd0443d789f"
    }
   },
   "outputs": [],
   "source": [
    "# Which element is in the 1st row, 2nd column of np_a?  \n",
    "# Remember that 2d arrays use the same indexing methods as 1d arrays, only you use two indexes separated by a comma (\",\")\n",
    "\n"
   ]
  },
  {
   "cell_type": "code",
   "execution_count": null,
   "metadata": {
    "collapsed": true,
    "nbpresent": {
     "id": "5c2817c9-8c34-4d06-ac45-e0b6f6ca5068"
    }
   },
   "outputs": [],
   "source": [
    "# Now try slicing - print out elements from the 1st and 2nd row, 2nd and 3rd column of np_a\n",
    "\n",
    "\n"
   ]
  },
  {
   "cell_type": "code",
   "execution_count": 1,
   "metadata": {
    "collapsed": true,
    "nbpresent": {
     "id": "275a975c-d39b-4a5b-9bf6-3df60abc6e09"
    }
   },
   "outputs": [],
   "source": [
    "# Finally, print the entire 3rd column of np_a. Remember that the shortcut for \"all rows\" is \":\"\n",
    "\n"
   ]
  },
  {
   "cell_type": "markdown",
   "metadata": {},
   "source": [
    "For further exercises, we will suggest a great resource called **100 Numpy exercises**, available here: <a href = \"#6\">[6]</a>. It is a joint effot of Numpy community, and is a great way to both repeat the concepts learned here as well as learn sa=ome new Numpz tricks!"
   ]
  },
  {
   "cell_type": "markdown",
   "metadata": {
    "nbpresent": {
     "id": "9a322602-4f07-4a92-8153-9563b1cdd631"
    }
   },
   "source": [
    "<hr> <hr> <hr>"
   ]
  },
  {
   "cell_type": "markdown",
   "metadata": {
    "nbpresent": {
     "id": "552f0d2f-7c5a-417c-9753-84f12cd822bc"
    }
   },
   "source": [
    "## Additional resources"
   ]
  },
  {
   "cell_type": "markdown",
   "metadata": {},
   "source": [
    "<a name=\"1\"></a><a href = \"http://docs.scipy.org/doc/\">[1]</a> *Numpy and Scipy documentation*, last accessed 2016/09/19"
   ]
  },
  {
   "cell_type": "markdown",
   "metadata": {
    "nbpresent": {
     "id": "2124c758-86e8-421c-a132-9f2b7e484122"
    }
   },
   "source": [
    "<a name=\"2\"></a><a href = \"https://docs.scipy.org/doc/numpy-dev/user/quickstart.html\">[2]</a> *Quickstart tutorial*, official *SciPy* documentation, last accessed 2016/09/04"
   ]
  },
  {
   "cell_type": "markdown",
   "metadata": {
    "nbpresent": {
     "id": "a21df3d7-670c-4b2e-85be-64356f164496"
    }
   },
   "source": [
    "<a name=\"3\"></a><a href = \"http://docs.scipy.org/doc/numpy-1.10.1/user/basics.html\">[3]</a> *Numpy basics*, official SciPy documentation, last accessed 2016/09/04"
   ]
  },
  {
   "cell_type": "markdown",
   "metadata": {
    "nbpresent": {
     "id": "106d7ab9-536a-47e6-8834-161b132ee620"
    }
   },
   "source": [
    "<a name=\"4\"></a><a href = \"http://cs231n.github.io/python-numpy-tutorial/\">[4]</a> *Python Numpy tutorial* by Justin Johnston, last accessed 2016/09/05"
   ]
  },
  {
   "cell_type": "markdown",
   "metadata": {
    "collapsed": true
   },
   "source": [
    "<a name=\"5\"></a><a href = \"http://docs.scipy.org/doc/numpy/reference/ufuncs.html\">[5]</a> *Numpy universal functions*, official SciPy documentation, last accessed 2016/09/19"
   ]
  },
  {
   "cell_type": "markdown",
   "metadata": {},
   "source": [
    "<a name=\"6\"></a><a href = \"http://www.labri.fr/perso/nrougier/teaching/numpy.100/\">[6]</a> *100 Numpy exercises*, last accessed 2016/09/22"
   ]
  }
 ],
 "metadata": {
  "anaconda-cloud": {},
  "kernelspec": {
   "display_name": "Python [Root]",
   "language": "python",
   "name": "Python [Root]"
  },
  "language_info": {
   "codemirror_mode": {
    "name": "ipython",
    "version": 3
   },
   "file_extension": ".py",
   "mimetype": "text/x-python",
   "name": "python",
   "nbconvert_exporter": "python",
   "pygments_lexer": "ipython3",
   "version": "3.5.2"
  },
  "nbpresent": {
   "slides": {
    "03f9b1fd-2ce9-4fa8-bed2-ea75811c8736": {
     "id": "03f9b1fd-2ce9-4fa8-bed2-ea75811c8736",
     "prev": "b9c1fb23-f0b1-4fcc-a788-7fc5583af440",
     "regions": {
      "6169aee9-ebad-4f07-a147-c89615b0ea90": {
       "attrs": {
        "height": 0.8,
        "width": 0.8,
        "x": 0.1,
        "y": 0.1
       },
       "content": {
        "cell": "7098fa91-b499-4e16-8e6f-098a464cec7d",
        "part": "whole"
       },
       "id": "6169aee9-ebad-4f07-a147-c89615b0ea90"
      }
     }
    },
    "0724bbb6-bdae-4e2f-b5c6-b648f4d02f57": {
     "id": "0724bbb6-bdae-4e2f-b5c6-b648f4d02f57",
     "prev": "235f1905-5ffe-4e61-ace7-e134218cd925",
     "regions": {
      "58447624-5fc1-437d-af00-3b217769e470": {
       "attrs": {
        "height": 0.8,
        "width": 0.8,
        "x": 0.1,
        "y": 0.1
       },
       "content": {
        "cell": "2124c758-86e8-421c-a132-9f2b7e484122",
        "part": "whole"
       },
       "id": "58447624-5fc1-437d-af00-3b217769e470"
      }
     }
    },
    "0dfd054d-9b80-4cec-8af6-255a1c265021": {
     "id": "0dfd054d-9b80-4cec-8af6-255a1c265021",
     "prev": "712b0e47-288e-4353-a6f4-2492ffe9cc63",
     "regions": {
      "73014e01-57b5-4500-abdb-370a314d2b11": {
       "attrs": {
        "height": 0.8,
        "width": 0.8,
        "x": 0.1,
        "y": 0.1
       },
       "content": {
        "cell": "945b7b46-f21b-487d-a288-63f8177c13ed",
        "part": "whole"
       },
       "id": "73014e01-57b5-4500-abdb-370a314d2b11"
      }
     }
    },
    "0e252692-8740-41ed-8f8c-03d1f0d586e5": {
     "id": "0e252692-8740-41ed-8f8c-03d1f0d586e5",
     "prev": "7fecc776-3076-4a7a-a659-a569b25cfc2f",
     "regions": {
      "d694ebcd-aa98-4352-9bdf-c5639281d3ad": {
       "attrs": {
        "height": 0.8,
        "width": 0.8,
        "x": 0.1,
        "y": 0.1
       },
       "content": {
        "cell": "095b6bba-90cb-4510-b307-eefd0603230c",
        "part": "whole"
       },
       "id": "d694ebcd-aa98-4352-9bdf-c5639281d3ad"
      }
     }
    },
    "1366e604-7711-4b99-bc6c-d1f8c63b4529": {
     "id": "1366e604-7711-4b99-bc6c-d1f8c63b4529",
     "prev": "d0056f99-095a-487a-ad3b-593e72d004a5",
     "regions": {
      "0b9815c8-4692-4b71-b34a-f537332c108b": {
       "attrs": {
        "height": 0.8,
        "width": 0.8,
        "x": 0.1,
        "y": 0.1
       },
       "content": {
        "cell": "0cc55113-4f33-485c-92ec-90cb68fe7ff7",
        "part": "whole"
       },
       "id": "0b9815c8-4692-4b71-b34a-f537332c108b"
      }
     }
    },
    "16360e4f-7ff2-4e36-ae5e-4ad34b5817f9": {
     "id": "16360e4f-7ff2-4e36-ae5e-4ad34b5817f9",
     "prev": "c10cc114-859e-44c0-87a5-80ae646e0f1c",
     "regions": {
      "7f13e8e8-36e8-4765-8242-b5c3592a49e6": {
       "attrs": {
        "height": 0.8,
        "width": 0.8,
        "x": 0.1,
        "y": 0.1
       },
       "content": {
        "cell": "f71e7e07-d22b-4a39-a80e-03a68c140e84",
        "part": "whole"
       },
       "id": "7f13e8e8-36e8-4765-8242-b5c3592a49e6"
      }
     }
    },
    "187a83a8-a464-46b2-b95d-f88e0ef25926": {
     "id": "187a83a8-a464-46b2-b95d-f88e0ef25926",
     "prev": "76626fba-3ca0-4fd5-8ab0-897d224b07ce",
     "regions": {
      "91cbbf5f-e5e3-4392-b0fa-d325bd60d491": {
       "attrs": {
        "height": 0.8,
        "width": 0.8,
        "x": 0.1,
        "y": 0.1
       },
       "content": {
        "cell": "c9171cb1-cda3-4789-96a0-3233094d2af6",
        "part": "whole"
       },
       "id": "91cbbf5f-e5e3-4392-b0fa-d325bd60d491"
      }
     }
    },
    "18f1fb82-32d2-4008-9fd9-8694edc2e9f3": {
     "id": "18f1fb82-32d2-4008-9fd9-8694edc2e9f3",
     "prev": "e299ab4a-e64f-4ebc-9f62-3eb02da68302",
     "regions": {
      "9076ea61-8452-441c-af7a-aec3c5d8bf2d": {
       "attrs": {
        "height": 0.8,
        "width": 0.8,
        "x": 0.1,
        "y": 0.1
       },
       "content": {
        "cell": "76cd2552-3efa-489e-8cde-87f27916e1bf",
        "part": "whole"
       },
       "id": "9076ea61-8452-441c-af7a-aec3c5d8bf2d"
      }
     }
    },
    "20b6069c-566a-42ee-9484-46d89078800f": {
     "id": "20b6069c-566a-42ee-9484-46d89078800f",
     "prev": "5b2ce259-e589-4a8c-adaf-dcb8f41c45f4",
     "regions": {
      "8d529f67-2533-4f98-a6bd-c6eda4ebad7c": {
       "attrs": {
        "height": 0.8,
        "width": 0.8,
        "x": 0.1,
        "y": 0.1
       },
       "content": {
        "cell": "558f60fa-cae5-4b17-a4f6-40761446f157",
        "part": "whole"
       },
       "id": "8d529f67-2533-4f98-a6bd-c6eda4ebad7c"
      }
     }
    },
    "20fa5d10-432d-4832-95d5-1138ec2bb967": {
     "id": "20fa5d10-432d-4832-95d5-1138ec2bb967",
     "prev": "16360e4f-7ff2-4e36-ae5e-4ad34b5817f9",
     "regions": {
      "5193701d-b5b8-4f92-8706-ae0e13ba5d54": {
       "attrs": {
        "height": 0.8,
        "width": 0.8,
        "x": 0.1,
        "y": 0.1
       },
       "content": {
        "cell": "2febc7c9-677f-42af-8e27-1bdaad1a2263",
        "part": "whole"
       },
       "id": "5193701d-b5b8-4f92-8706-ae0e13ba5d54"
      }
     }
    },
    "235f1905-5ffe-4e61-ace7-e134218cd925": {
     "id": "235f1905-5ffe-4e61-ace7-e134218cd925",
     "prev": "3e081214-5e22-45f9-8b2e-9527c31d9bcf",
     "regions": {
      "2114562b-8cac-4f84-8794-1d129466c168": {
       "attrs": {
        "height": 0.8,
        "width": 0.8,
        "x": 0.1,
        "y": 0.1
       },
       "content": {
        "cell": "552f0d2f-7c5a-417c-9753-84f12cd822bc",
        "part": "whole"
       },
       "id": "2114562b-8cac-4f84-8794-1d129466c168"
      }
     }
    },
    "24a6826c-3781-42d3-803c-25dad78b4a81": {
     "id": "24a6826c-3781-42d3-803c-25dad78b4a81",
     "prev": "ac43cc4f-acff-4a3e-abe3-0e1dce283c2c",
     "regions": {
      "9662363f-8fe9-49e4-b29a-c5a11246e52e": {
       "attrs": {
        "height": 0.8,
        "width": 0.8,
        "x": 0.1,
        "y": 0.1
       },
       "content": {
        "cell": "c02b241a-4837-485c-94de-75d1bd351763",
        "part": "whole"
       },
       "id": "9662363f-8fe9-49e4-b29a-c5a11246e52e"
      }
     }
    },
    "289c12ad-d8bc-4d3b-85e6-6ba3f6fffcd9": {
     "id": "289c12ad-d8bc-4d3b-85e6-6ba3f6fffcd9",
     "prev": "187a83a8-a464-46b2-b95d-f88e0ef25926",
     "regions": {
      "3cf7eb17-c076-4d9c-aebe-bf0324c259f2": {
       "attrs": {
        "height": 0.8,
        "width": 0.8,
        "x": 0.1,
        "y": 0.1
       },
       "content": {
        "cell": "fb0408d9-a169-4fda-860a-f81f2278a5c0",
        "part": "whole"
       },
       "id": "3cf7eb17-c076-4d9c-aebe-bf0324c259f2"
      }
     }
    },
    "2af1d30a-9728-40c1-b228-70d37288c2c1": {
     "id": "2af1d30a-9728-40c1-b228-70d37288c2c1",
     "prev": "6b7cc288-0347-411b-b4bc-6d9c84c43e69",
     "regions": {
      "b6490f32-938e-4a1b-aeb0-efafcc5257ed": {
       "attrs": {
        "height": 0.8,
        "width": 0.8,
        "x": 0.1,
        "y": 0.1
       },
       "content": {
        "cell": "02aa9dcc-88d6-4fd9-a2ab-9bd0443d789f",
        "part": "whole"
       },
       "id": "b6490f32-938e-4a1b-aeb0-efafcc5257ed"
      }
     }
    },
    "2be7fc7b-4a27-4aa9-8bef-03fcaf8cbeab": {
     "id": "2be7fc7b-4a27-4aa9-8bef-03fcaf8cbeab",
     "prev": "6d56d0b9-669b-47e8-a936-3946c0bc1217",
     "regions": {
      "6f90b130-42d5-4c24-853d-150096e801c7": {
       "attrs": {
        "height": 0.8,
        "width": 0.8,
        "x": 0.1,
        "y": 0.1
       },
       "content": {
        "cell": "ebc88926-c77b-413b-88bd-1ee0a8f9e400",
        "part": "whole"
       },
       "id": "6f90b130-42d5-4c24-853d-150096e801c7"
      }
     }
    },
    "2d09330d-a57e-4c2b-8d61-ebd560740e88": {
     "id": "2d09330d-a57e-4c2b-8d61-ebd560740e88",
     "prev": "57c2b28f-91f1-4995-9a83-c0e451149934",
     "regions": {
      "95859c44-edce-4f37-a792-64bb0d793817": {
       "attrs": {
        "height": 0.8,
        "width": 0.45,
        "x": 0.05,
        "y": 0.1
       },
       "id": "95859c44-edce-4f37-a792-64bb0d793817"
      },
      "cae3ba42-3e5b-4110-8c3a-5816b512eb98": {
       "attrs": {
        "height": 0.8,
        "width": 0.45,
        "x": 0.5,
        "y": 0.1
       },
       "id": "cae3ba42-3e5b-4110-8c3a-5816b512eb98"
      }
     }
    },
    "2e11e46f-3f76-4be8-b0da-ac57742e9280": {
     "id": "2e11e46f-3f76-4be8-b0da-ac57742e9280",
     "prev": "cbdf4c71-9906-4411-8d72-58001cd8bea7",
     "regions": {
      "87ece7ab-aae7-4d39-93b9-575e6cbc88ae": {
       "attrs": {
        "height": 0.8,
        "width": 0.8,
        "x": 0.1,
        "y": 0.1
       },
       "content": {
        "cell": "3d0d9b9b-59e4-4531-abb6-7c5e45986377",
        "part": "whole"
       },
       "id": "87ece7ab-aae7-4d39-93b9-575e6cbc88ae"
      }
     }
    },
    "3ac03c85-bbd0-4cc0-aba5-32b25028d901": {
     "id": "3ac03c85-bbd0-4cc0-aba5-32b25028d901",
     "prev": "8d642679-cf23-4d51-b7a4-1c367b35835d",
     "regions": {
      "c91f13f4-1605-46c7-bf61-9d528e8af3dd": {
       "attrs": {
        "height": 0.8,
        "width": 0.8,
        "x": 0.1,
        "y": 0.1
       },
       "content": {
        "cell": "34223dda-e32c-407b-a29d-992acf6120d3",
        "part": "whole"
       },
       "id": "c91f13f4-1605-46c7-bf61-9d528e8af3dd"
      }
     }
    },
    "3e081214-5e22-45f9-8b2e-9527c31d9bcf": {
     "id": "3e081214-5e22-45f9-8b2e-9527c31d9bcf",
     "prev": "9ea6f23d-1b2d-469e-8b94-d671ca117bda",
     "regions": {
      "9c065025-a14f-4c22-8516-214a7a25f487": {
       "attrs": {
        "height": 0.8,
        "width": 0.8,
        "x": 0.1,
        "y": 0.1
       },
       "content": {
        "cell": "9a322602-4f07-4a92-8153-9563b1cdd631",
        "part": "whole"
       },
       "id": "9c065025-a14f-4c22-8516-214a7a25f487"
      }
     }
    },
    "3e650fee-dc7b-4181-b308-511054a06752": {
     "id": "3e650fee-dc7b-4181-b308-511054a06752",
     "prev": "0724bbb6-bdae-4e2f-b5c6-b648f4d02f57",
     "regions": {
      "5731cf84-4fbe-4742-b49c-279f44bb2d3c": {
       "attrs": {
        "height": 0.8,
        "width": 0.8,
        "x": 0.1,
        "y": 0.1
       },
       "content": {
        "cell": "a21df3d7-670c-4b2e-85be-64356f164496",
        "part": "whole"
       },
       "id": "5731cf84-4fbe-4742-b49c-279f44bb2d3c"
      }
     }
    },
    "4132bac7-8a6e-432d-9070-e331c18ea859": {
     "id": "4132bac7-8a6e-432d-9070-e331c18ea859",
     "prev": "2be7fc7b-4a27-4aa9-8bef-03fcaf8cbeab",
     "regions": {
      "589044c7-fcc4-4ed2-8125-6b90d1ecf117": {
       "attrs": {
        "height": 0.8,
        "width": 0.8,
        "x": 0.1,
        "y": 0.1
       },
       "content": {
        "cell": "4769f078-febe-40ba-8ed4-a289b743cc7a",
        "part": "whole"
       },
       "id": "589044c7-fcc4-4ed2-8125-6b90d1ecf117"
      }
     }
    },
    "4213407d-8af0-4934-ab20-ad5043c10383": {
     "id": "4213407d-8af0-4934-ab20-ad5043c10383",
     "prev": "6e481314-0795-40c3-a219-3e87874df3c1",
     "regions": {
      "a03ecf22-69ae-4957-b6c2-33784673af3f": {
       "attrs": {
        "height": 0.8,
        "width": 0.8,
        "x": 0.1,
        "y": 0.1
       },
       "content": {
        "cell": "da7ddabd-1d58-48a6-b35a-f03562ddc035",
        "part": "whole"
       },
       "id": "a03ecf22-69ae-4957-b6c2-33784673af3f"
      }
     }
    },
    "527b611c-1f3d-446b-a0eb-9455260a6c85": {
     "id": "527b611c-1f3d-446b-a0eb-9455260a6c85",
     "prev": "3e650fee-dc7b-4181-b308-511054a06752",
     "regions": {
      "ad212e16-fe2b-4d0a-8004-d37a6d401cd8": {
       "attrs": {
        "height": 0.8,
        "width": 0.8,
        "x": 0.1,
        "y": 0.1
       },
       "content": {
        "cell": "106d7ab9-536a-47e6-8834-161b132ee620",
        "part": "whole"
       },
       "id": "ad212e16-fe2b-4d0a-8004-d37a6d401cd8"
      }
     }
    },
    "5753b201-bcd6-41da-a87e-5b5467d35e2c": {
     "id": "5753b201-bcd6-41da-a87e-5b5467d35e2c",
     "prev": "c966dc49-736a-43a7-9b03-6bd87a809c12",
     "regions": {
      "52f7900f-54a8-4089-acb6-bb5c341c011f": {
       "attrs": {
        "height": 0.8,
        "width": 0.8,
        "x": 0.1,
        "y": 0.1
       },
       "content": {
        "cell": "4bc28fe5-355d-49f3-b5a8-17b07b844683",
        "part": "whole"
       },
       "id": "52f7900f-54a8-4089-acb6-bb5c341c011f"
      }
     }
    },
    "579780b9-2b7f-4b5c-a045-6cf53b1d3dd2": {
     "id": "579780b9-2b7f-4b5c-a045-6cf53b1d3dd2",
     "prev": "2af1d30a-9728-40c1-b228-70d37288c2c1",
     "regions": {
      "47c1c4db-ab4a-4dee-aa4f-6d7e5302442f": {
       "attrs": {
        "height": 0.8,
        "width": 0.8,
        "x": 0.1,
        "y": 0.1
       },
       "content": {
        "cell": "5c2817c9-8c34-4d06-ac45-e0b6f6ca5068",
        "part": "whole"
       },
       "id": "47c1c4db-ab4a-4dee-aa4f-6d7e5302442f"
      }
     }
    },
    "57c2b28f-91f1-4995-9a83-c0e451149934": {
     "id": "57c2b28f-91f1-4995-9a83-c0e451149934",
     "prev": null,
     "regions": {
      "259b3804-4554-4ba8-be83-a6d61e8b7125": {
       "attrs": {
        "height": 0.8,
        "width": 0.8,
        "x": 0.07566339753599825,
        "y": 0.14542832459947
       },
       "content": {
        "cell": "92f5a563-f954-473e-8503-ed74585287dc",
        "part": "whole"
       },
       "id": "259b3804-4554-4ba8-be83-a6d61e8b7125"
      }
     }
    },
    "5b2ce259-e589-4a8c-adaf-dcb8f41c45f4": {
     "id": "5b2ce259-e589-4a8c-adaf-dcb8f41c45f4",
     "prev": "2e11e46f-3f76-4be8-b0da-ac57742e9280",
     "regions": {
      "f42c9f84-4cc5-4d63-97de-6815153b5470": {
       "attrs": {
        "height": 0.8,
        "width": 0.8,
        "x": 0.1,
        "y": 0.1
       },
       "content": {
        "cell": "b6023c89-d6b7-4722-a8d6-c6a835be2ac1",
        "part": "whole"
       },
       "id": "f42c9f84-4cc5-4d63-97de-6815153b5470"
      }
     }
    },
    "6b7cc288-0347-411b-b4bc-6d9c84c43e69": {
     "id": "6b7cc288-0347-411b-b4bc-6d9c84c43e69",
     "prev": "4213407d-8af0-4934-ab20-ad5043c10383",
     "regions": {
      "b46ec67e-ee05-428d-a728-85b57853f909": {
       "attrs": {
        "height": 0.8,
        "width": 0.8,
        "x": 0.1,
        "y": 0.1
       },
       "content": {
        "cell": "785b8371-9691-4f62-acc3-9c08c7a0cd31",
        "part": "whole"
       },
       "id": "b46ec67e-ee05-428d-a728-85b57853f909"
      }
     }
    },
    "6c566571-2c7e-4214-a2e6-e66fcd8e9775": {
     "id": "6c566571-2c7e-4214-a2e6-e66fcd8e9775",
     "prev": "ea0f47cb-dc67-4ec2-a1dd-016253d29652",
     "regions": {
      "b14395ee-b961-4614-bcbd-19b6e92d0116": {
       "attrs": {
        "height": 0.8,
        "width": 0.8,
        "x": 0.1,
        "y": 0.1
       },
       "content": {
        "cell": "ef6ffed2-aa62-4835-a2ab-b415d515ad91",
        "part": "whole"
       },
       "id": "b14395ee-b961-4614-bcbd-19b6e92d0116"
      }
     }
    },
    "6d56d0b9-669b-47e8-a936-3946c0bc1217": {
     "id": "6d56d0b9-669b-47e8-a936-3946c0bc1217",
     "prev": "bec2739f-9301-4430-bb71-ce6004a3fcf5",
     "regions": {
      "233e3b15-1962-4643-b79d-245d6ae012d7": {
       "attrs": {
        "height": 0.8,
        "width": 0.8,
        "x": 0.1,
        "y": 0.1
       },
       "content": {
        "cell": "abb41232-fa3a-430b-b3a6-75c1c0abcf99",
        "part": "whole"
       },
       "id": "233e3b15-1962-4643-b79d-245d6ae012d7"
      }
     }
    },
    "6e481314-0795-40c3-a219-3e87874df3c1": {
     "id": "6e481314-0795-40c3-a219-3e87874df3c1",
     "prev": "8e2c8164-8e37-4c41-b111-43a13e46d31a",
     "regions": {
      "916ecda1-525b-4e21-bd4d-9c9f6f68bd13": {
       "attrs": {
        "height": 0.8,
        "width": 0.8,
        "x": 0.1,
        "y": 0.1
       },
       "content": {
        "cell": "0149124b-46fc-41b0-99ae-007235851c91",
        "part": "whole"
       },
       "id": "916ecda1-525b-4e21-bd4d-9c9f6f68bd13"
      }
     }
    },
    "6f86446d-0312-4a02-9c5d-2b9e5569c29b": {
     "id": "6f86446d-0312-4a02-9c5d-2b9e5569c29b",
     "prev": "527b611c-1f3d-446b-a0eb-9455260a6c85",
     "regions": {
      "3b888bba-7e42-4795-8e8c-7a1ed72af54f": {
       "attrs": {
        "height": 0.8,
        "width": 0.8,
        "x": 0.1,
        "y": 0.1
       },
       "content": {
        "cell": "ae6a56c6-9bf5-403a-a689-29f261e22f35",
        "part": "whole"
       },
       "id": "3b888bba-7e42-4795-8e8c-7a1ed72af54f"
      }
     }
    },
    "7024f479-72f7-4233-8fe4-42fbbde29f36": {
     "id": "7024f479-72f7-4233-8fe4-42fbbde29f36",
     "prev": "9c4fc3b1-22b1-4db5-b39f-a9c88c336a35",
     "regions": {
      "d538e8ae-0342-46e2-b2c4-e5c44387f703": {
       "attrs": {
        "height": 0.8,
        "width": 0.8,
        "x": 0.1,
        "y": 0.1
       },
       "content": {
        "cell": "f888a392-cc55-48f2-b021-d1ec056c3d8b",
        "part": "whole"
       },
       "id": "d538e8ae-0342-46e2-b2c4-e5c44387f703"
      }
     }
    },
    "706f2323-f428-49e6-8274-54290a13c36a": {
     "id": "706f2323-f428-49e6-8274-54290a13c36a",
     "prev": "18f1fb82-32d2-4008-9fd9-8694edc2e9f3",
     "regions": {
      "880e68b8-4d0b-4098-97ab-2ae9d09fa8b8": {
       "attrs": {
        "height": 0.8,
        "width": 0.8,
        "x": 0.1,
        "y": 0.1
       },
       "content": {
        "cell": "9ffb5322-fa49-43cc-b095-640ac891490c",
        "part": "whole"
       },
       "id": "880e68b8-4d0b-4098-97ab-2ae9d09fa8b8"
      }
     }
    },
    "712b0e47-288e-4353-a6f4-2492ffe9cc63": {
     "id": "712b0e47-288e-4353-a6f4-2492ffe9cc63",
     "prev": "71e6cd22-37f3-4dce-87a2-62142c4d5ea4",
     "regions": {
      "5353abd9-6307-4bf3-b23a-2cf37f568bb5": {
       "attrs": {
        "height": 0.8,
        "width": 0.8,
        "x": 0.1,
        "y": 0.1
       },
       "content": {
        "cell": "32ec34e0-203e-4c95-b133-44b485f4f0b7",
        "part": "whole"
       },
       "id": "5353abd9-6307-4bf3-b23a-2cf37f568bb5"
      }
     }
    },
    "71e6cd22-37f3-4dce-87a2-62142c4d5ea4": {
     "id": "71e6cd22-37f3-4dce-87a2-62142c4d5ea4",
     "prev": "f660afca-f18c-4eed-83e5-f48e49adeecf",
     "regions": {
      "12b4f3b2-2ef8-4aaf-928a-69c711fe3019": {
       "attrs": {
        "height": 0.8,
        "width": 0.8,
        "x": 0.1,
        "y": 0.1
       },
       "content": {
        "cell": "d07cd0f8-71f6-4c71-b8ad-7509f62342a4",
        "part": "whole"
       },
       "id": "12b4f3b2-2ef8-4aaf-928a-69c711fe3019"
      }
     }
    },
    "751abc69-8721-45ae-a4c3-05e5959cdd73": {
     "id": "751abc69-8721-45ae-a4c3-05e5959cdd73",
     "prev": "ed9c893d-fa19-407e-a0ad-08ff877807f8",
     "regions": {
      "7db6e9a0-cef6-46ab-a2fd-c4e9bd2e4ac0": {
       "attrs": {
        "height": 0.8,
        "width": 0.8,
        "x": 0.1,
        "y": 0.1
       },
       "content": {
        "cell": "602ae1a2-f34c-4027-8c50-d6e213b8abd6",
        "part": "whole"
       },
       "id": "7db6e9a0-cef6-46ab-a2fd-c4e9bd2e4ac0"
      }
     }
    },
    "76626fba-3ca0-4fd5-8ab0-897d224b07ce": {
     "id": "76626fba-3ca0-4fd5-8ab0-897d224b07ce",
     "prev": "ca4f5b2f-2b5f-4767-8486-867fc41373c1",
     "regions": {
      "416e64bc-325b-4639-99d9-88994ed8d12c": {
       "attrs": {
        "height": 0.8,
        "width": 0.8,
        "x": 0.1,
        "y": 0.1
       },
       "content": {
        "cell": "b76f5c0f-a44b-4f44-ba8a-5069e3806f1f",
        "part": "whole"
       },
       "id": "416e64bc-325b-4639-99d9-88994ed8d12c"
      }
     }
    },
    "798f585a-1f51-4268-900f-f17cd6c834db": {
     "id": "798f585a-1f51-4268-900f-f17cd6c834db",
     "prev": "dc409274-69e4-4d5b-8965-bc0c18ac1e05",
     "regions": {
      "f9171088-8e97-4b56-903c-b53dd98a074a": {
       "attrs": {
        "height": 0.8,
        "width": 0.8,
        "x": 0.1,
        "y": 0.1
       },
       "content": {
        "cell": "464f9a02-876c-49cb-88f3-4693dcbfab96",
        "part": "whole"
       },
       "id": "f9171088-8e97-4b56-903c-b53dd98a074a"
      }
     }
    },
    "7fecc776-3076-4a7a-a659-a569b25cfc2f": {
     "id": "7fecc776-3076-4a7a-a659-a569b25cfc2f",
     "prev": "289c12ad-d8bc-4d3b-85e6-6ba3f6fffcd9",
     "regions": {
      "97509d94-04e8-4ae6-a295-a05cde3597d5": {
       "attrs": {
        "height": 0.8,
        "width": 0.8,
        "x": 0.1,
        "y": 0.1
       },
       "content": {
        "cell": "f96cf5d9-3238-4baf-a2fb-dfb5280377ea",
        "part": "whole"
       },
       "id": "97509d94-04e8-4ae6-a295-a05cde3597d5"
      }
     }
    },
    "85b85ff0-871b-427d-8a4f-20ccf83aaf47": {
     "id": "85b85ff0-871b-427d-8a4f-20ccf83aaf47",
     "prev": "a8c87765-c08d-4b30-8eff-364a4e49a4da",
     "regions": {
      "53f72d72-61da-429e-9633-3c56864b2333": {
       "attrs": {
        "height": 0.8,
        "width": 0.8,
        "x": 0.1,
        "y": 0.1
       },
       "content": {
        "cell": "0e66e658-083c-42c3-9c85-4c4470cb71be",
        "part": "whole"
       },
       "id": "53f72d72-61da-429e-9633-3c56864b2333"
      }
     }
    },
    "889ad3c0-4755-45cd-90c1-f0b946c8c5bd": {
     "id": "889ad3c0-4755-45cd-90c1-f0b946c8c5bd",
     "prev": "b8dc0339-50c1-4f1a-bd01-26099f5109cc",
     "regions": {
      "2d77b700-f4e5-4128-966c-efd280d95c06": {
       "attrs": {
        "height": 0.8,
        "width": 0.8,
        "x": 0.1,
        "y": 0.1
       },
       "content": {
        "cell": "02ec3b36-c260-4096-93db-dd0072303435",
        "part": "whole"
       },
       "id": "2d77b700-f4e5-4128-966c-efd280d95c06"
      }
     }
    },
    "8d642679-cf23-4d51-b7a4-1c367b35835d": {
     "id": "8d642679-cf23-4d51-b7a4-1c367b35835d",
     "prev": "0e252692-8740-41ed-8f8c-03d1f0d586e5",
     "regions": {
      "7cd61297-1077-4954-8807-70ed8f2f88d1": {
       "attrs": {
        "height": 0.8,
        "width": 0.8,
        "x": 0.1,
        "y": 0.1
       },
       "content": {
        "cell": "1bdef0f1-3536-4265-a078-bff6c5c07e16",
        "part": "whole"
       },
       "id": "7cd61297-1077-4954-8807-70ed8f2f88d1"
      }
     }
    },
    "8e2c8164-8e37-4c41-b111-43a13e46d31a": {
     "id": "8e2c8164-8e37-4c41-b111-43a13e46d31a",
     "prev": "9e1f69a4-576f-4767-9790-065f7f6d1ff4",
     "regions": {
      "033fb63b-dbc3-4b13-852c-9d519c4394c0": {
       "attrs": {
        "height": 0.8,
        "width": 0.8,
        "x": 0.1,
        "y": 0.1
       },
       "content": {
        "cell": "abad6d97-087d-4386-9485-c953ceca0392",
        "part": "whole"
       },
       "id": "033fb63b-dbc3-4b13-852c-9d519c4394c0"
      }
     }
    },
    "8e9635ef-ba70-492c-bd1a-16df744553a3": {
     "id": "8e9635ef-ba70-492c-bd1a-16df744553a3",
     "prev": "9c498157-0fc2-4817-b1aa-0331455d9473",
     "regions": {
      "4d883766-6d2e-4355-b775-7b3823983df4": {
       "attrs": {
        "height": 0.8,
        "width": 0.8,
        "x": 0.1,
        "y": 0.1
       },
       "content": {
        "cell": "f49b7d08-0c33-416a-96be-23b327470621",
        "part": "whole"
       },
       "id": "4d883766-6d2e-4355-b775-7b3823983df4"
      }
     }
    },
    "9c498157-0fc2-4817-b1aa-0331455d9473": {
     "id": "9c498157-0fc2-4817-b1aa-0331455d9473",
     "prev": "1366e604-7711-4b99-bc6c-d1f8c63b4529",
     "regions": {
      "a52f8dd1-ff28-4226-a66e-ea1ff5c26024": {
       "attrs": {
        "height": 0.8,
        "width": 0.8,
        "x": 0.1,
        "y": 0.1
       },
       "content": {
        "cell": "2fc4a6d7-c7a8-4885-8ed3-fad1e3e2d829",
        "part": "whole"
       },
       "id": "a52f8dd1-ff28-4226-a66e-ea1ff5c26024"
      }
     }
    },
    "9c4fc3b1-22b1-4db5-b39f-a9c88c336a35": {
     "id": "9c4fc3b1-22b1-4db5-b39f-a9c88c336a35",
     "prev": "cc7a0780-295d-4bac-af69-2c574d0315be",
     "regions": {
      "3d9ea31c-06c2-4b15-98bb-64d9758a88bb": {
       "attrs": {
        "height": 0.8,
        "width": 0.8,
        "x": 0.1,
        "y": 0.1
       },
       "content": {
        "cell": "941779c4-7490-4c01-a6cf-7124104f2b09",
        "part": "whole"
       },
       "id": "3d9ea31c-06c2-4b15-98bb-64d9758a88bb"
      }
     }
    },
    "9e1f69a4-576f-4767-9790-065f7f6d1ff4": {
     "id": "9e1f69a4-576f-4767-9790-065f7f6d1ff4",
     "prev": "85b85ff0-871b-427d-8a4f-20ccf83aaf47",
     "regions": {
      "0dfd85b1-2810-4c16-a7a5-e1a3fa3462e4": {
       "attrs": {
        "height": 0.8,
        "width": 0.8,
        "x": 0.1,
        "y": 0.1
       },
       "content": {
        "cell": "6d073519-86d6-4c9d-af32-cda4b10e96cc",
        "part": "whole"
       },
       "id": "0dfd85b1-2810-4c16-a7a5-e1a3fa3462e4"
      }
     }
    },
    "9ea6f23d-1b2d-469e-8b94-d671ca117bda": {
     "id": "9ea6f23d-1b2d-469e-8b94-d671ca117bda",
     "prev": "579780b9-2b7f-4b5c-a045-6cf53b1d3dd2",
     "regions": {
      "04b5c51a-393a-403a-a958-4057603ada04": {
       "attrs": {
        "height": 0.8,
        "width": 0.8,
        "x": 0.1,
        "y": 0.1
       },
       "content": {
        "cell": "275a975c-d39b-4a5b-9bf6-3df60abc6e09",
        "part": "whole"
       },
       "id": "04b5c51a-393a-403a-a958-4057603ada04"
      }
     }
    },
    "a567ad4c-c7a0-4a5b-98f2-2b8f49623554": {
     "id": "a567ad4c-c7a0-4a5b-98f2-2b8f49623554",
     "prev": "c1ced1de-54a0-4574-b5cb-150c59ad6b78",
     "regions": {
      "a3f5bd11-97f5-4510-905a-c6a10c92eb36": {
       "attrs": {
        "height": 0.8,
        "width": 0.8,
        "x": 0.1,
        "y": 0.1
       },
       "content": {
        "cell": "f3c762af-ee2c-4998-8986-3261972f906d",
        "part": "whole"
       },
       "id": "a3f5bd11-97f5-4510-905a-c6a10c92eb36"
      }
     }
    },
    "a79b8a93-60fc-4cb5-a465-9510116557d7": {
     "id": "a79b8a93-60fc-4cb5-a465-9510116557d7",
     "prev": "889ad3c0-4755-45cd-90c1-f0b946c8c5bd",
     "regions": {
      "df6a5d90-e318-45b8-a625-21cd57c27b99": {
       "attrs": {
        "height": 0.8,
        "width": 0.8,
        "x": 0.1,
        "y": 0.1
       },
       "content": {
        "cell": "0bd2bb41-4026-4c8d-9363-20a1e3c3bde3",
        "part": "whole"
       },
       "id": "df6a5d90-e318-45b8-a625-21cd57c27b99"
      }
     }
    },
    "a8c87765-c08d-4b30-8eff-364a4e49a4da": {
     "id": "a8c87765-c08d-4b30-8eff-364a4e49a4da",
     "prev": "20b6069c-566a-42ee-9484-46d89078800f",
     "regions": {
      "2a0cac03-f4b5-4758-8b35-aa0e24a8f6ba": {
       "attrs": {
        "height": 0.8,
        "width": 0.8,
        "x": 0.1,
        "y": 0.1
       },
       "content": {
        "cell": "49a4d133-c2a4-4fa9-866e-6a7177cfe7d9",
        "part": "whole"
       },
       "id": "2a0cac03-f4b5-4758-8b35-aa0e24a8f6ba"
      }
     }
    },
    "ac43cc4f-acff-4a3e-abe3-0e1dce283c2c": {
     "id": "ac43cc4f-acff-4a3e-abe3-0e1dce283c2c",
     "prev": "2d09330d-a57e-4c2b-8d61-ebd560740e88",
     "regions": {
      "eda6b29b-d5fc-44d0-ae97-f0a7563f9118": {
       "attrs": {
        "height": 0.8,
        "width": 0.8,
        "x": 0.1,
        "y": 0.1
       },
       "content": {
        "cell": "8ebade12-005e-4431-b856-54c29b0e80d4",
        "part": "whole"
       },
       "id": "eda6b29b-d5fc-44d0-ae97-f0a7563f9118"
      }
     }
    },
    "b8dc0339-50c1-4f1a-bd01-26099f5109cc": {
     "id": "b8dc0339-50c1-4f1a-bd01-26099f5109cc",
     "prev": "03f9b1fd-2ce9-4fa8-bed2-ea75811c8736",
     "regions": {
      "9fd8d41b-4c51-4051-b0c3-88beb4efb263": {
       "attrs": {
        "height": 0.8,
        "width": 0.8,
        "x": 0.1,
        "y": 0.1
       },
       "content": {
        "cell": "8c5ed34f-e1c7-40d7-8de3-47f10ebac283",
        "part": "whole"
       },
       "id": "9fd8d41b-4c51-4051-b0c3-88beb4efb263"
      }
     }
    },
    "b9c1fb23-f0b1-4fcc-a788-7fc5583af440": {
     "id": "b9c1fb23-f0b1-4fcc-a788-7fc5583af440",
     "prev": "0dfd054d-9b80-4cec-8af6-255a1c265021",
     "regions": {
      "93f0eb62-a0bd-44a1-b8d5-77b72206c26f": {
       "attrs": {
        "height": 0.8,
        "width": 0.8,
        "x": 0.1,
        "y": 0.1
       },
       "content": {
        "cell": "aaa0c93d-3fdd-43fa-8277-b5250c775f95",
        "part": "whole"
       },
       "id": "93f0eb62-a0bd-44a1-b8d5-77b72206c26f"
      }
     }
    },
    "bec2739f-9301-4430-bb71-ce6004a3fcf5": {
     "id": "bec2739f-9301-4430-bb71-ce6004a3fcf5",
     "prev": "706f2323-f428-49e6-8274-54290a13c36a",
     "regions": {
      "73b7c751-780a-43dc-86ee-398b361361df": {
       "attrs": {
        "height": 0.8,
        "width": 0.8,
        "x": 0.1,
        "y": 0.1
       },
       "content": {
        "cell": "03eb2a94-fb59-41e7-857d-f5beb8b5eb5f",
        "part": "whole"
       },
       "id": "73b7c751-780a-43dc-86ee-398b361361df"
      }
     }
    },
    "c10cc114-859e-44c0-87a5-80ae646e0f1c": {
     "id": "c10cc114-859e-44c0-87a5-80ae646e0f1c",
     "prev": "5753b201-bcd6-41da-a87e-5b5467d35e2c",
     "regions": {
      "4c5da55e-b422-4850-bf62-e175bcf2d319": {
       "attrs": {
        "height": 0.8,
        "width": 0.8,
        "x": 0.1,
        "y": 0.1
       },
       "content": {
        "cell": "b1ad8e48-4d9d-4df0-91c4-fef5972a44f6",
        "part": "whole"
       },
       "id": "4c5da55e-b422-4850-bf62-e175bcf2d319"
      }
     }
    },
    "c1ced1de-54a0-4574-b5cb-150c59ad6b78": {
     "id": "c1ced1de-54a0-4574-b5cb-150c59ad6b78",
     "prev": "a79b8a93-60fc-4cb5-a465-9510116557d7",
     "regions": {
      "1349193c-d82a-41a3-951f-36e6f11db3a4": {
       "attrs": {
        "height": 0.8,
        "width": 0.8,
        "x": 0.1,
        "y": 0.1
       },
       "content": {
        "cell": "187cb347-4473-40d2-8d43-44640d8e8ebf",
        "part": "whole"
       },
       "id": "1349193c-d82a-41a3-951f-36e6f11db3a4"
      }
     }
    },
    "c966dc49-736a-43a7-9b03-6bd87a809c12": {
     "id": "c966dc49-736a-43a7-9b03-6bd87a809c12",
     "prev": "6c566571-2c7e-4214-a2e6-e66fcd8e9775",
     "regions": {
      "a9b56b58-9305-4398-a3fc-a80e058c4ef4": {
       "attrs": {
        "height": 0.8,
        "width": 0.8,
        "x": 0.1,
        "y": 0.1
       },
       "content": {
        "cell": "24de8d84-5b37-42c5-bb87-f62d8cde0f29",
        "part": "whole"
       },
       "id": "a9b56b58-9305-4398-a3fc-a80e058c4ef4"
      }
     }
    },
    "ca4f5b2f-2b5f-4767-8486-867fc41373c1": {
     "id": "ca4f5b2f-2b5f-4767-8486-867fc41373c1",
     "prev": "24a6826c-3781-42d3-803c-25dad78b4a81",
     "regions": {
      "96b0c365-5502-4adf-ab7d-bbbd3ca7b274": {
       "attrs": {
        "height": 0.8,
        "width": 0.8,
        "x": 0.1,
        "y": 0.1
       },
       "content": {
        "cell": "46b5ac74-7e9f-4a91-b503-5c0b85691939",
        "part": "whole"
       },
       "id": "96b0c365-5502-4adf-ab7d-bbbd3ca7b274"
      }
     }
    },
    "cbdf4c71-9906-4411-8d72-58001cd8bea7": {
     "id": "cbdf4c71-9906-4411-8d72-58001cd8bea7",
     "prev": "751abc69-8721-45ae-a4c3-05e5959cdd73",
     "regions": {
      "d4502a4d-2b03-4c5f-87fd-0bdcf8f6ae42": {
       "attrs": {
        "height": 0.8,
        "width": 0.8,
        "x": 0.1,
        "y": 0.1
       },
       "content": {
        "cell": "abdbaff4-1569-4e6d-987e-d8e22ead659a",
        "part": "whole"
       },
       "id": "d4502a4d-2b03-4c5f-87fd-0bdcf8f6ae42"
      }
     }
    },
    "cc7a0780-295d-4bac-af69-2c574d0315be": {
     "id": "cc7a0780-295d-4bac-af69-2c574d0315be",
     "prev": "dd1aa85e-343d-41f8-bf50-fd4aa6ec7f2c",
     "regions": {
      "560353fb-53da-4080-9da8-9d23ef5bca5b": {
       "attrs": {
        "height": 0.8,
        "width": 0.8,
        "x": 0.1,
        "y": 0.1
       },
       "content": {
        "cell": "099857fc-7f1d-4ceb-b19e-bf7ab55f1497",
        "part": "whole"
       },
       "id": "560353fb-53da-4080-9da8-9d23ef5bca5b"
      }
     }
    },
    "d0056f99-095a-487a-ad3b-593e72d004a5": {
     "id": "d0056f99-095a-487a-ad3b-593e72d004a5",
     "prev": "d356e9bd-afbe-4676-8716-85f1292cf443",
     "regions": {
      "43875ab8-3d94-4f8c-847d-28a13aa57b80": {
       "attrs": {
        "height": 0.8,
        "width": 0.8,
        "x": 0.1,
        "y": 0.1
       },
       "content": {
        "cell": "7e887c00-9623-463b-9121-a2e7c6fb3add",
        "part": "whole"
       },
       "id": "43875ab8-3d94-4f8c-847d-28a13aa57b80"
      }
     }
    },
    "d356e9bd-afbe-4676-8716-85f1292cf443": {
     "id": "d356e9bd-afbe-4676-8716-85f1292cf443",
     "prev": "4132bac7-8a6e-432d-9070-e331c18ea859",
     "regions": {
      "3cb8095f-59f5-4131-9989-aeddf697994c": {
       "attrs": {
        "height": 0.8,
        "width": 0.8,
        "x": 0.1,
        "y": 0.1
       },
       "content": {
        "cell": "7dbdd10c-cdde-4cb6-8e9c-218a5136d603",
        "part": "whole"
       },
       "id": "3cb8095f-59f5-4131-9989-aeddf697994c"
      }
     }
    },
    "dc409274-69e4-4d5b-8965-bc0c18ac1e05": {
     "id": "dc409274-69e4-4d5b-8965-bc0c18ac1e05",
     "prev": "3ac03c85-bbd0-4cc0-aba5-32b25028d901",
     "regions": {
      "0b9e0f4e-5611-47f8-821a-a99aba76c8a8": {
       "attrs": {
        "height": 0.8,
        "width": 0.8,
        "x": 0.1,
        "y": 0.1
       },
       "content": {
        "cell": "b4be231c-6254-4037-aaac-1ec49511b2df",
        "part": "whole"
       },
       "id": "0b9e0f4e-5611-47f8-821a-a99aba76c8a8"
      }
     }
    },
    "dd1aa85e-343d-41f8-bf50-fd4aa6ec7f2c": {
     "id": "dd1aa85e-343d-41f8-bf50-fd4aa6ec7f2c",
     "prev": "a567ad4c-c7a0-4a5b-98f2-2b8f49623554",
     "regions": {
      "69831cc9-e75e-49e6-aafe-764140857e44": {
       "attrs": {
        "height": 0.8,
        "width": 0.8,
        "x": 0.1,
        "y": 0.1
       },
       "content": {
        "cell": "2c4e5595-6cba-4e86-bd22-6ac2b9564a87",
        "part": "whole"
       },
       "id": "69831cc9-e75e-49e6-aafe-764140857e44"
      }
     }
    },
    "e299ab4a-e64f-4ebc-9f62-3eb02da68302": {
     "id": "e299ab4a-e64f-4ebc-9f62-3eb02da68302",
     "prev": "20fa5d10-432d-4832-95d5-1138ec2bb967",
     "regions": {
      "838dd993-601d-46a4-a995-de4e4c4850b6": {
       "attrs": {
        "height": 0.8,
        "width": 0.8,
        "x": 0.1,
        "y": 0.1
       },
       "content": {
        "cell": "6abdb6ac-0e12-4ca2-a5ce-8f5ed2060de1",
        "part": "whole"
       },
       "id": "838dd993-601d-46a4-a995-de4e4c4850b6"
      }
     }
    },
    "ea0f47cb-dc67-4ec2-a1dd-016253d29652": {
     "id": "ea0f47cb-dc67-4ec2-a1dd-016253d29652",
     "prev": "7024f479-72f7-4233-8fe4-42fbbde29f36",
     "regions": {
      "f3edc44e-209c-41f6-9619-20ffb93dc601": {
       "attrs": {
        "height": 0.8,
        "width": 0.8,
        "x": 0.1,
        "y": 0.1
       },
       "content": {
        "cell": "6c8c4d08-1bfd-4847-91bd-9003dc2369d8",
        "part": "whole"
       },
       "id": "f3edc44e-209c-41f6-9619-20ffb93dc601"
      }
     }
    },
    "ed9c893d-fa19-407e-a0ad-08ff877807f8": {
     "id": "ed9c893d-fa19-407e-a0ad-08ff877807f8",
     "prev": "8e9635ef-ba70-492c-bd1a-16df744553a3",
     "regions": {
      "49d7c133-8698-4f27-a729-641c4c5a03d6": {
       "attrs": {
        "height": 0.8,
        "width": 0.8,
        "x": 0.1,
        "y": 0.1
       },
       "content": {
        "cell": "878190cc-d1a0-4e13-b1bb-877ca40eefa0",
        "part": "whole"
       },
       "id": "49d7c133-8698-4f27-a729-641c4c5a03d6"
      }
     }
    },
    "f660afca-f18c-4eed-83e5-f48e49adeecf": {
     "id": "f660afca-f18c-4eed-83e5-f48e49adeecf",
     "prev": "798f585a-1f51-4268-900f-f17cd6c834db",
     "regions": {
      "c232e8cd-e0b6-4e3b-9973-f7f6ba6fb47a": {
       "attrs": {
        "height": 0.8,
        "width": 0.8,
        "x": 0.1,
        "y": 0.1
       },
       "content": {
        "cell": "933415fa-3be8-4cd7-8519-d59057749880",
        "part": "whole"
       },
       "id": "c232e8cd-e0b6-4e3b-9973-f7f6ba6fb47a"
      }
     }
    }
   },
   "themes": {}
  }
 },
 "nbformat": 4,
 "nbformat_minor": 0
}
